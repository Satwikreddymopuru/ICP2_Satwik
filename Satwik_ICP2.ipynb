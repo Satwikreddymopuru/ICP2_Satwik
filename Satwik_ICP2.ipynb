{
 "cells": [
  {
   "cell_type": "code",
   "execution_count": 2,
   "id": "34b856fe",
   "metadata": {},
   "outputs": [
    {
     "name": "stdout",
     "output_type": "stream",
     "text": [
      "Enter your first name: satwik\n",
      "Enter your last name: reddy\n",
      "Full Name: satwik reddy\n",
      "String Alternative: sti ed\n"
     ]
    }
   ],
   "source": [
    "def string_alternative(s):\n",
    "    return s[::2]\n",
    "\n",
    "def main():\n",
    "    first_name = input(\"Enter your first name: \")\n",
    "    last_name = input(\"Enter your last name: \")\n",
    "    full_name = first_name + \" \" + last_name\n",
    "    print(\"Full Name:\", full_name)\n",
    "    \n",
    "    alternative_chars = string_alternative(full_name)\n",
    "    print(\"String Alternative:\", alternative_chars)\n",
    "\n",
    "if __name__ == \"__main__\":\n",
    "    main()"
   ]
  },
  {
   "cell_type": "code",
   "execution_count": 11,
   "id": "6d8cb034",
   "metadata": {},
   "outputs": [],
   "source": [
    "def main():\n",
    "    word_count = {}\n",
    "\n",
    "    with open(\"C:/Users/shrin/OneDrive/Desktop/input.txt\", \"r\") as file:\n",
    "        lines = file.readlines()\n",
    "\n",
    "    for line in lines:\n",
    "        words = line.strip().split()\n",
    "        for word in words:\n",
    "            word_count[word] = word_count.get(word, 0) + 1\n",
    "\n",
    "    with open(\"C:/Users/shrin/OneDrive/Desktop/output.txt\", \"w\") as file:\n",
    "        for line in lines:\n",
    "            file.write(line)\n",
    "        file.write(\"Word_Count:\\n\")\n",
    "        for word, count in word_count.items():\n",
    "            file.write(f\"{word}: {count}\\n\")\n",
    "\n",
    "if __name__ == \"__main__\":\n",
    "    main()"
   ]
  },
  {
   "cell_type": "code",
   "execution_count": 12,
   "id": "0ba6e1b6",
   "metadata": {},
   "outputs": [
    {
     "name": "stdout",
     "output_type": "stream",
     "text": [
      "Nested Loop: [381.0, 393.7, 368.3, 375.92]\n",
      "List Comprehension: [381.0, 393.7, 368.3, 375.92]\n"
     ]
    }
   ],
   "source": [
    "# Using nested loops\n",
    "def convert_to_cm_nested(heights_in):\n",
    "    heights_cm = []\n",
    "    for height in heights_in:\n",
    "        cm = height * 2.54\n",
    "        heights_cm.append(round(cm, 2))\n",
    "    return heights_cm\n",
    "\n",
    "# Using list comprehensions\n",
    "def convert_to_cm_comprehension(heights_in):\n",
    "    return [round(height * 2.54, 2) for height in heights_in]\n",
    "\n",
    "def main():\n",
    "    heights_in = [150, 155, 145, 148]\n",
    "\n",
    "    heights_cm_nested = convert_to_cm_nested(heights_in)\n",
    "    print(\"Nested Loop:\", heights_cm_nested)\n",
    "\n",
    "    heights_cm_comprehension = convert_to_cm_comprehension(heights_in)\n",
    "    print(\"List Comprehension:\", heights_cm_comprehension)\n",
    "\n",
    "if __name__ == \"__main__\":\n",
    "    main()\n"
   ]
  }
 ],
 "metadata": {
  "kernelspec": {
   "display_name": "Python 3 (ipykernel)",
   "language": "python",
   "name": "python3"
  },
  "language_info": {
   "codemirror_mode": {
    "name": "ipython",
    "version": 3
   },
   "file_extension": ".py",
   "mimetype": "text/x-python",
   "name": "python",
   "nbconvert_exporter": "python",
   "pygments_lexer": "ipython3",
   "version": "3.9.13"
  }
 },
 "nbformat": 4,
 "nbformat_minor": 5
}
