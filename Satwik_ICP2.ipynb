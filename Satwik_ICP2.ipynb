{
 "cells": [
  {
   "cell_type": "code",
   "execution_count": 2,
   "id": "24311628",
   "metadata": {},
   "outputs": [
    {
     "name": "stdout",
     "output_type": "stream",
     "text": [
      "Enter your first name: satwik\n",
      "Enter your last name: reddy\n",
      "Full Name: satwik reddy\n",
      "String Alternative: sti ed\n"
     ]
    }
   ],
   "source": [
    "def string_alternative(s):\n",
    "    return s[::2]\n",
    "\n",
    "def main():\n",
    "    first_name = input(\"Enter your first name: \")\n",
    "    last_name = input(\"Enter your last name: \")\n",
    "    full_name = first_name + \" \" + last_name\n",
    "    print(\"Full Name:\", full_name)\n",
    "    \n",
    "    alternative_chars = string_alternative(full_name)\n",
    "    print(\"String Alternative:\", alternative_chars)\n",
    "\n",
    "if __name__ == \"__main__\":\n",
    "    main()"
   ]
  },
  {
   "cell_type": "code",
   "execution_count": 11,
   "id": "973162df",
   "metadata": {},
   "outputs": [],
   "source": [
    "def main():\n",
    "    word_count = {}\n",
    "\n",
    "    with open(\"C:/Users/shrin/OneDrive/Desktop/input.txt\", \"r\") as file:\n",
    "        lines = file.readlines()\n",
    "\n",
    "    for line in lines:\n",
    "        words = line.strip().split()\n",
    "        for word in words:\n",
    "            word_count[word] = word_count.get(word, 0) + 1\n",
    "\n",
    "    with open(\"C:/Users/shrin/OneDrive/Desktop/output.txt\", \"w\") as file:\n",
    "        for line in lines:\n",
    "            file.write(line)\n",
    "        file.write(\"Word_Count:\\n\")\n",
    "        for word, count in word_count.items():\n",
    "            file.write(f\"{word}: {count}\\n\")\n",
    "\n",
    "if __name__ == \"__main__\":\n",
    "    main()"
   ]
  },
  {
   "cell_type": "code",
   "execution_count": 25,
   "id": "cef58790",
   "metadata": {},
   "outputs": [
    {
     "name": "stdout",
     "output_type": "stream",
     "text": [
      "No of heights (inches.) of customers: 5\n",
      "186\n",
      "174\n",
      "155\n",
      "145\n",
      "132\n",
      "[84.39201451905626, 78.94736842105263, 70.32667876588022, 65.78947368421052, 59.89110707803992]\n"
     ]
    }
   ],
   "source": [
    "p=[]\n",
    "y=[] \n",
    "x=int(input(\"No of heights (inches.) of customers: \")) \n",
    "for i in range (x):\n",
    "    p.append(float(input())) \n",
    "for j in range(x): \n",
    "    y.append(p[j]/2.204) \n",
    "print(y)\n"
   ]
  },
  {
   "cell_type": "code",
   "execution_count": null,
   "id": "40257d7a",
   "metadata": {},
   "outputs": [],
   "source": []
  }
 ],
 "metadata": {
  "kernelspec": {
   "display_name": "Python 3 (ipykernel)",
   "language": "python",
   "name": "python3"
  },
  "language_info": {
   "codemirror_mode": {
    "name": "ipython",
    "version": 3
   },
   "file_extension": ".py",
   "mimetype": "text/x-python",
   "name": "python",
   "nbconvert_exporter": "python",
   "pygments_lexer": "ipython3",
   "version": "3.9.13"
  }
 },
 "nbformat": 4,
 "nbformat_minor": 5
}
